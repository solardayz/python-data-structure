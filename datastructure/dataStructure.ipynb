{
 "cells": [
  {
   "cell_type": "code",
   "execution_count": null,
   "metadata": {},
   "outputs": [],
   "source": [
    "#후위표기식\n",
    "'''\n",
    "▣ 입력예제 1\n",
    "3+5*2/(7-2)\n",
    "▣ 출력예제 1\n",
    "352*72-/+\n",
    "▣ 입력예제 2\n",
    "3*(5+2)-9\n",
    "▣ 출력예제 2\n",
    "352+*9-\n",
    "'''\n"
   ]
  }
 ],
 "metadata": {
  "kernelspec": {
   "display_name": "Python 3",
   "language": "python",
   "name": "python3"
  },
  "language_info": {
   "name": "python",
   "version": "3.8.6"
  },
  "orig_nbformat": 4
 },
 "nbformat": 4,
 "nbformat_minor": 2
}
