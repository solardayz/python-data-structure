{
 "cells": [
  {
   "cell_type": "code",
   "execution_count": 13,
   "metadata": {},
   "outputs": [
    {
     "name": "stdout",
     "output_type": "stream",
     "text": [
      "3+5*2/(7-2)\n",
      "352*72-/+\n"
     ]
    }
   ],
   "source": [
    "#후위표기식\n",
    "'''\n",
    "▣ 입력예제 1\n",
    "3+5*2/(7-2)\n",
    "▣ 출력예제 1\n",
    "352*72-/+\n",
    "▣ 입력예제 2\n",
    "3*(5+2)-9\n",
    "▣ 출력예제 2\n",
    "352+*9-\n",
    "'''\n",
    "\n",
    "postfix='3+5*2/(7-2)'\n",
    "stack = []\n",
    "result = ''\n",
    "\n",
    "for token in postfix:\n",
    "    if token.isdigit():\n",
    "        result += token\n",
    "    else:\n",
    "        if token == '(':\n",
    "            stack.append(token)\n",
    "        elif token =='*' or token =='/':\n",
    "            while stack and (stack[-1] == '*' or stack[-1] == '/'):\n",
    "                result += stack.pop()\n",
    "            stack.append(token)\n",
    "        elif token == '+' or token == '-':\n",
    "            while stack and stack[-1] != '(':\n",
    "                result += stack.pop()\n",
    "            stack.append(token)\n",
    "        elif token == ')':\n",
    "            while stack and stack[-1] != '(':\n",
    "                result += stack.pop()\n",
    "            stack.pop()\n",
    "    \n",
    "    # print(stack, result, end= ' ')\n",
    "\n",
    "print(postfix)\n",
    "# print(stack)\n",
    "while stack:\n",
    "    result += stack.pop()\n",
    "print(result)\n"
   ]
  },
  {
   "cell_type": "code",
   "execution_count": 1,
   "metadata": {},
   "outputs": [
    {
     "name": "stdout",
     "output_type": "stream",
     "text": [
      "3+5*2/(7-2)+1*2/6*99+(2/5*9+2)\n",
      "['+']\n",
      "352*72-/+12*6/99*+25/9*2++\n",
      "352*72-/+\n"
     ]
    }
   ],
   "source": [
    "# 후위 표기식 연습\n",
    "# 3+5*2/(7-2)\n",
    "# 352*72/+\n",
    "\n",
    "'''\n",
    "중위 표기식 3+5*2/(7-2)를 후위 표기식으로 변환하는 과정에서 스택에 push와 pop하는 순서는 다음과 같습니다.\n",
    "\n",
    "빈 스택을 만듭니다.\n",
    "중위 표기식에서 왼쪽에서 오른쪽으로 하나씩 읽습니다.\n",
    "숫자 3을 만나면 바로 출력합니다.\n",
    "연산자 +를 만나면 스택이 비어있으므로 push합니다. (스택: +)\n",
    "숫자 5를 만나면 바로 출력합니다.\n",
    "연산자 *를 만나면 스택의 top에 있는 연산자 +보다 우선순위가 높으므로 push합니다. (스택: + *)\n",
    "숫자 2를 만나면 바로 출력합니다.\n",
    "여는 괄호 '('를 만나면 push합니다. (스택: + * ()\n",
    "숫자 7을 만나면 바로 출력합니다.\n",
    "연산자 -를 만나면 스택의 top에 있는 여는 괄호 '('가 나올 때까지 pop하여 출력하고 현재 연산자 -는 push합니다.(스택: + * -)\n",
    "숫자 2를 만나면 바로 출력합니다.\n",
    "닫는 괄호 ')'를 만나면 여는 괄호 '('가 나올 때까지 pop하여 출력하고 여는 괄호 '('도 pop 합니다.(스택: +)\n",
    "연산자 / 를 만나면 스택의 top에 있는 연산자 +보다 우선순위가 높으므로 push 합니다.(스택 : + /)\n",
    "중위 표기식을 모두 읽은 후 스택에 남아있는 연산자들을 모두 pop하여 출력합니다.\n",
    "이러한 과정을 거치면 중위 표기식 3+5*2/(7-2)는 후위 표기식 3 5 2 * 7 2 - / + 로 변환됩니다😊\n",
    "\n",
    "'''\n",
    "\n",
    "\n",
    "# middlefix = '3+5*2/(7-2)'\n",
    "middlefix = '3+5*2/(7-2)+1*2/6*99+(2/5*9+2)'\n",
    "stack = []\n",
    "postfix = ''\n",
    "\n",
    "print(middlefix)\n",
    "\n",
    "for token in middlefix:\n",
    "    if token.isdigit():\n",
    "        postfix += token\n",
    "    else:\n",
    "        if token == '(':\n",
    "            stack.append(token)\n",
    "        elif token == '*' or token == '/':\n",
    "            while stack and (stack[-1] == '*' or stack[-1] == '/'):\n",
    "                postfix += stack.pop()\n",
    "            stack.append(token)\n",
    "        elif token == '+' or token == '-':\n",
    "            while stack and stack[-1] != '(':\n",
    "                postfix += stack.pop()\n",
    "            stack.append(token)\n",
    "        elif token == ')':\n",
    "            while stack and stack[-1] != '(':\n",
    "                postfix += stack.pop()\n",
    "            stack.pop()\n",
    "\n",
    "print(stack)   \n",
    "while stack:\n",
    "    postfix += stack.pop()         \n",
    "print(postfix)\n",
    "print('352*72-/+')\n",
    "        \n"
   ]
  },
  {
   "cell_type": "code",
   "execution_count": 3,
   "metadata": {},
   "outputs": [
    {
     "name": "stdout",
     "output_type": "stream",
     "text": [
      "3 5 2 * 7 2 - / +\n"
     ]
    }
   ],
   "source": [
    "#빙이 코딩해 준 후위표기식\n",
    "def infix_to_postfix(infix):\n",
    "    precedence = {'+': 1, '-': 1, '*': 2, '/': 2}\n",
    "    stack = []\n",
    "    postfix = []\n",
    "    for char in infix:\n",
    "        if char.isnumeric():\n",
    "            postfix.append(char)\n",
    "        elif char == '(':\n",
    "            stack.append(char)\n",
    "        elif char == ')':\n",
    "            while stack and stack[-1] != '(':\n",
    "                postfix.append(stack.pop())\n",
    "            stack.pop()\n",
    "        else:\n",
    "            while stack and stack[-1] != '(' and precedence[char] <= precedence[stack[-1]]:\n",
    "                postfix.append(stack.pop())\n",
    "            stack.append(char)\n",
    "    while stack:\n",
    "        postfix.append(stack.pop())\n",
    "    return ' '.join(postfix)\n",
    "\n",
    "infix = '3+5*2/(7-2)'\n",
    "print(infix_to_postfix(infix))"
   ]
  },
  {
   "cell_type": "code",
   "execution_count": 2,
   "metadata": {},
   "outputs": [
    {
     "name": "stdout",
     "output_type": "stream",
     "text": [
      "352+*9-\n"
     ]
    }
   ],
   "source": [
    "#후위식 연산\n",
    "'''\n",
    "후위연산식이 주어지면 연산한 결과를 출력하는 프로그램을 작성하세요.\n",
    "만약 3*(5+2)-9 을 후위연산식으로 표현하면 352+*9- 로 표현되며 그 결과는 21입니다.\n",
    "▣ 입력설명\n",
    "첫 줄에 후위연산식이 주어집니다. 연산식의 길이는 50을 넘지 않습니다.\n",
    "식은 1~9의 숫자와 +, -, *, /, (, ) 연산자로만 이루어진다.\n",
    "▣ 출력설명\n",
    "연산한 결과를 출력합니다.\n",
    "▣ 입력예제 1\n",
    "352+*9-\n",
    "▣ 출력예제 1\n",
    "12\n",
    "'''\n",
    "\n",
    "postfix = '352+*9-'\n",
    "print(postfix)"
   ]
  },
  {
   "cell_type": "code",
   "execution_count": null,
   "metadata": {},
   "outputs": [],
   "source": []
  }
 ],
 "metadata": {
  "kernelspec": {
   "display_name": "Python 3",
   "language": "python",
   "name": "python3"
  },
  "language_info": {
   "codemirror_mode": {
    "name": "ipython",
    "version": 3
   },
   "file_extension": ".py",
   "mimetype": "text/x-python",
   "name": "python",
   "nbconvert_exporter": "python",
   "pygments_lexer": "ipython3",
   "version": "3.9.10"
  },
  "orig_nbformat": 4
 },
 "nbformat": 4,
 "nbformat_minor": 2
}
