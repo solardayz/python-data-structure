{
 "cells": [
  {
   "cell_type": "code",
   "execution_count": null,
   "metadata": {},
   "outputs": [],
   "source": [
    "#재귀함수\n",
    "\n",
    "def DFS(x):\n",
    "    if x>0:\n",
    "        print(x)\n",
    "        DFS(x-1)\n",
    "\n",
    "if __name__==\"__main__\":\n",
    "    n=5\n",
    "    DFS(n)"
   ]
  },
  {
   "cell_type": "code",
   "execution_count": null,
   "metadata": {},
   "outputs": [],
   "source": [
    "#재귀함수를 이용한 이진수 출력\n",
    "\n",
    "'''\n",
    "10진수 N이 입력되면 2진수로 변환하여 출려하는 프로그램을 작성하세요. 단 재귀함수를 이용해서 출력해야 한다.\n",
    "\n",
    "▣ 입력예제 1\n",
    "11\n",
    "▣ 출력예제 1\n",
    "1011\n",
    "'''\n",
    "\n",
    "def DFS(x):\n",
    "    if x//2>0:\n",
    "        DFS(x//2)\n",
    "    print(x%2)\n",
    "\n",
    "\n",
    "if __name__==\"__main__\":\n",
    "    n=11\n",
    "    DFS(n)\n"
   ]
  },
  {
   "cell_type": "code",
   "execution_count": null,
   "metadata": {},
   "outputs": [],
   "source": [
    "#재귀함수를 이용한 이진수 출력- 선생님 풀이\n",
    "\n",
    "def DFS(x):\n",
    "    if x==0:\n",
    "        return\n",
    "    else:\n",
    "        DFS(x//2)\n",
    "        print(x%2, end='')\n",
    "\n",
    "if __name__==\"__main__\":\n",
    "    n=11\n",
    "    DFS(n)"
   ]
  },
  {
   "cell_type": "code",
   "execution_count": null,
   "metadata": {},
   "outputs": [],
   "source": [
    "#이진트리 순회(깊이우선탐색)\n",
    "'''\n",
    "\n",
    "      1\n",
    "    /   \\\n",
    "   2      3\n",
    "  / \\    / \\\n",
    "  4  5  6  7\n",
    "\n",
    "전위순회 출력 : 1 2 4 5 3 6 7\n",
    "중위순회 출력 : 4 2 5 1 6 3 7\n",
    "후위순회 출력 : 4 5 2 6 7 3 1\n",
    "'''\n",
    "\n",
    "def DFS(x):\n",
    "    if x==0:\n",
    "        return\n",
    "    else:\n",
    "        # DFS(x)\n",
    "        DFS(x-1)\n",
    "\n",
    "if __name__==\"__main__\":\n",
    "    n=7\n",
    "    DFS(n)\n",
    "    "
   ]
  },
  {
   "cell_type": "code",
   "execution_count": 8,
   "metadata": {},
   "outputs": [
    {
     "name": "stdout",
     "output_type": "stream",
     "text": [
      "[0, 1, 1]\n",
      "1 2 \n",
      "[0, 1, 0]\n",
      "1 \n",
      "[0, 0, 1]\n",
      "2 \n",
      "[0, 0, 0]\n",
      "\n"
     ]
    }
   ],
   "source": [
    "#부분집합 구하기(DFS)\n",
    "'''\n",
    "자연수 N이 주어지면 1부터 N까지의 원소를 갖는 집합의 부분집합을 모두 출력하는 프로그램\n",
    "을 작성하세요.\n",
    "▣ 입력설명\n",
    "첫 번째 줄에 자연수 N(1<=N<=10)이 주어집니다.\n",
    "▣ 출력설명\n",
    "첫 번째 줄부터 각 줄에 하나씩 부분집합을 아래와 출력예제와 같은 순서로 출력한다.\n",
    "단 공집합은 출력하지 않습니다.\n",
    "▣ 입력예제 1\n",
    "3\n",
    "▣ 출력예제 1\n",
    "1 2 3\n",
    "1 2\n",
    "1 3\n",
    "1\n",
    "2 3\n",
    "2\n",
    "3\n",
    "'''\n",
    "\n",
    "def DFS(v):\n",
    "    if v==n+1:\n",
    "        print(ch)\n",
    "        for i in range(1, n+1):\n",
    "            if ch[i]==1:\n",
    "                print(i, end=' ')\n",
    "        print()\n",
    "    else:\n",
    "        ch[v]=1\n",
    "        DFS(v+1)\n",
    "        ch[v]=0\n",
    "        DFS(v+1)\n",
    "\n",
    "if __name__ == \"__main__\":\n",
    "    n=int(input())\n",
    "    ch=[0]*(n+1)\n",
    "    DFS(1)\n"
   ]
  },
  {
   "cell_type": "code",
   "execution_count": null,
   "metadata": {},
   "outputs": [],
   "source": [
    "'''\n",
    "N개 중\n",
    " 1) 중복을 허용해서\n",
    " 2) 중복없이\n",
    "M개를\n",
    " A) 순서 있게 나열하기\n",
    " B) 고르기\n",
    "'''\n",
    "#1-A\n",
    "def DFS(k):\n",
    "    if k==M+1:\n",
    "        for i in range(1, M+1):\n",
    "            print(selected[i], end=' ')\n",
    "        print()\n",
    "    else:\n",
    "        for i in range(1, N+1):\n",
    "            selected[k]=i\n",
    "            DFS(k+1)\n",
    "            selected[k]=0\n",
    "\n",
    "if __name__==\"__main__\":\n",
    "    N=int(input())\n",
    "    M=int(input())\n",
    "    selected=[0]*(N+1)\n",
    "    DFS(1)"
   ]
  },
  {
   "cell_type": "code",
   "execution_count": null,
   "metadata": {},
   "outputs": [],
   "source": [
    "'''\n",
    "N개 중\n",
    " 1) 중복을 허용해서\n",
    " 2) 중복없이\n",
    "M개를\n",
    " A) 순서 있게 나열하기\n",
    " B) 고르기\n",
    "'''\n",
    "#2-A\n",
    "\n",
    "def DFS(k):\n",
    "    if k==M+1:\n",
    "        for i in range(1, M+1):\n",
    "            print(selected[i], end=' ')\n",
    "        print()\n",
    "    else:\n",
    "        for i in range(1, N+1):\n",
    "            isUsed=False\n",
    "            for y in range(1, k):\n",
    "                if i==selected[y]:\n",
    "                    isUsed=True\n",
    "            if isUsed==False:\n",
    "                selected[k]=i\n",
    "                DFS(k+1)\n",
    "                selected[k]=0\n",
    "\n",
    "if __name__==\"__main__\":\n",
    "    N=int(input())\n",
    "    M=int(input())\n",
    "    selected=[0]*(N+1)\n",
    "    DFS(1)\n"
   ]
  },
  {
   "cell_type": "code",
   "execution_count": 1,
   "metadata": {},
   "outputs": [
    {
     "name": "stdout",
     "output_type": "stream",
     "text": [
      "[0, 0, 0]\n",
      "[0, 1, 1]\n",
      "[0, 1, 2]\n",
      "[0, 2, 1]\n",
      "[0, 2, 2]\n",
      "[0, 0, 0]\n"
     ]
    }
   ],
   "source": [
    "#부분집합 구하기 연습 1\n",
    "#중복허용하여 순서 있게\n",
    "def DFS(v):\n",
    "    if v==N+1:\n",
    "        print(selected)\n",
    "    else:\n",
    "        for i in range(1, N+1):\n",
    "            selected[v]=i\n",
    "            DFS(v+1)\n",
    "            selected[v]=0\n",
    "\n",
    "if __name__==\"__main__\":\n",
    "    N=int(input())\n",
    "    selected=[0]*(N+1)\n",
    "    print(selected)\n",
    "    DFS(1)\n",
    "    print(selected)"
   ]
  },
  {
   "cell_type": "code",
   "execution_count": 6,
   "metadata": {},
   "outputs": [
    {
     "name": "stdout",
     "output_type": "stream",
     "text": [
      "[0, 0, 0]\n",
      "[0, 1, 1]\n",
      "[0, 1, 0]\n",
      "[0, 0, 1]\n",
      "[0, 0, 0]\n"
     ]
    }
   ],
   "source": [
    "#부분합 연습 2\n",
    "\n",
    "def DFS(v):\n",
    "    if v==N+1:\n",
    "        print(selected)\n",
    "    else:\n",
    "        selected[v]=1\n",
    "        DFS(v+1)\n",
    "        selected[v]=0\n",
    "        DFS(v+1)\n",
    "\n",
    "if __name__==\"__main__\":\n",
    "    N=int(input())\n",
    "    selected=[0]*(N+1)\n",
    "    print(selected)\n",
    "    DFS(1)"
   ]
  },
  {
   "cell_type": "markdown",
   "metadata": {},
   "source": []
  },
  {
   "cell_type": "markdown",
   "metadata": {},
   "source": []
  },
  {
   "cell_type": "markdown",
   "metadata": {},
   "source": []
  },
  {
   "cell_type": "code",
   "execution_count": null,
   "metadata": {},
   "outputs": [],
   "source": [
    "#합이 같은 부분집합\n",
    "'''\n",
    "N개의 원소로 구성된 자연수 집합이 주어지면, 이 집합을 두 개의 부분집합으로 나누었을 때\n",
    "두 부분집합의 원소의 합이 서로 같은 경우가 존재하면 “YES\"를 출력하고, 그렇지 않으면\n",
    "”NO\"를 출력하는 프로그램을 작성하세요.\n",
    "둘로 나뉘는 두 부분집합은 서로소 집합이며, 두 부분집합을 합하면 입력으로 주어진 원래의\n",
    "집합이 되어 합니다.\n",
    "예를 들어 {1, 3, 5, 6, 7, 10}이 입력되면 {1, 3, 5, 7} = {6, 10} 으로 두 부분집합의 합이\n",
    "16으로 같은 경우가 존재하는 것을 알 수 있다.\n",
    "▣ 입력설명\n",
    "첫 번째 줄에 자연수 N(1<=N<=10)이 주어집니다.\n",
    "두 번째 줄에 집합의 원소 N개가 주어진다. 각 원소는 중복되지 않는다.\n",
    "▣ 출력설명\n",
    "첫 번째 줄에 “YES\" 또는 ”NO\"를 출력한다.\n",
    "▣ 입력예제 1\n",
    "6\n",
    "1 3 5 6 7 10\n",
    "▣ 출력예제 1\n",
    "YES\n",
    "'''\n",
    "\n"
   ]
  }
 ],
 "metadata": {
  "kernelspec": {
   "display_name": "Python 3",
   "language": "python",
   "name": "python3"
  },
  "language_info": {
   "codemirror_mode": {
    "name": "ipython",
    "version": 3
   },
   "file_extension": ".py",
   "mimetype": "text/x-python",
   "name": "python",
   "nbconvert_exporter": "python",
   "pygments_lexer": "ipython3",
   "version": "3.9.10"
  },
  "orig_nbformat": 4
 },
 "nbformat": 4,
 "nbformat_minor": 2
}
