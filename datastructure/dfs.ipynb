{
 "cells": [
  {
   "cell_type": "code",
   "execution_count": null,
   "metadata": {},
   "outputs": [],
   "source": [
    "#재귀함수\n",
    "\n",
    "def DFS(x):\n",
    "    if x>0:\n",
    "        print(x)\n",
    "        DFS(x-1)\n",
    "\n",
    "if __name__==\"__main__\":\n",
    "    n=5\n",
    "    DFS(n)"
   ]
  },
  {
   "cell_type": "code",
   "execution_count": null,
   "metadata": {},
   "outputs": [],
   "source": [
    "#재귀함수를 이용한 이진수 출력\n",
    "\n",
    "'''\n",
    "10진수 N이 입력되면 2진수로 변환하여 출려하는 프로그램을 작성하세요. 단 재귀함수를 이용해서 출력해야 한다.\n",
    "\n",
    "▣ 입력예제 1\n",
    "11\n",
    "▣ 출력예제 1\n",
    "1011\n",
    "'''\n",
    "\n",
    "def DFS(x):\n",
    "    if x//2>0:\n",
    "        DFS(x//2)\n",
    "    print(x%2)\n",
    "\n",
    "\n",
    "if __name__==\"__main__\":\n",
    "    n=11\n",
    "    DFS(n)\n"
   ]
  },
  {
   "cell_type": "code",
   "execution_count": null,
   "metadata": {},
   "outputs": [],
   "source": [
    "#재귀함수를 이용한 이진수 출력- 선생님 풀이\n",
    "\n",
    "def DFS(x):\n",
    "    if x==0:\n",
    "        return\n",
    "    else:\n",
    "        DFS(x//2)\n",
    "        print(x%2, end='')\n",
    "\n",
    "if __name__==\"__main__\":\n",
    "    n=11\n",
    "    DFS(n)"
   ]
  },
  {
   "cell_type": "code",
   "execution_count": null,
   "metadata": {},
   "outputs": [],
   "source": [
    "#이진트리 순회(깊이우선탐색)\n",
    "'''\n",
    "    /4\n",
    "   2\n",
    " /  \\5\n",
    "1   \n",
    " \\  / 6\n",
    "   3\n",
    "    \\ 7\n",
    "\n",
    "전위순회 출력 : 1 2 4 5 3 6 7\n",
    "중위순회 출력 : 4 2 5 1 6 3 7\n",
    "후위순회 출력 : 4 5 2 6 7 3 1\n",
    "'''"
   ]
  }
 ],
 "metadata": {
  "kernelspec": {
   "display_name": "Python 3",
   "language": "python",
   "name": "python3"
  },
  "language_info": {
   "codemirror_mode": {
    "name": "ipython",
    "version": 3
   },
   "file_extension": ".py",
   "mimetype": "text/x-python",
   "name": "python",
   "nbconvert_exporter": "python",
   "pygments_lexer": "ipython3",
   "version": "3.8.6"
  },
  "orig_nbformat": 4
 },
 "nbformat": 4,
 "nbformat_minor": 2
}
