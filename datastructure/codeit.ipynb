{
 "cells": [
  {
   "attachments": {},
   "cell_type": "markdown",
   "metadata": {},
   "source": [
    "# 08. 합병 정렬 구현하기\n",
    "\n",
    "실습 설명\n",
    "Divide and Conquer 방식으로 merge_sort 함수를 써 보세요. merge_sort는 파라미터로 리스트 하나를 받고, \n",
    "정렬된 새로운 리스트를 리턴합니다.\n",
    "\n",
    "merge 함수는 이전 과제에서 작성한 그대로 사용하면 됩니다!"
   ]
  },
  {
   "cell_type": "code",
   "execution_count": 5,
   "metadata": {},
   "outputs": [
    {
     "name": "stdout",
     "output_type": "stream",
     "text": [
      "[1, 3, 5, 7, 9, 11, 13, 11, 3, 5, 7, 9, 11, 13, 11, 5, 7, 9, 11, 13, 11, 7, 9, 11, 13, 11]\n",
      "[1, 28, 13, 9, 30, 48, 5, 7, 15, 28, 13, 9, 30, 48, 5, 7, 15, 13, 9, 30, 48, 5, 7, 15, 9, 30, 48, 5, 7, 15, 30, 48, 5, 7, 15]\n",
      "[2, 5, 6, 7, 1, 2, 4, 7, 10, 11, 4, 15, 13, 1, 6, 4, 5, 6, 7, 1, 2, 4, 7, 10, 11, 4, 15, 13, 1, 6, 4, 6, 7, 1, 2, 4, 7, 10, 11, 4, 15, 13, 1, 6, 4, 7, 1, 2, 4, 7, 10, 11, 4, 15, 13, 1, 6, 4, 1, 2, 4, 7, 10, 11, 4, 15, 13, 1, 6, 4, 2, 4, 7, 10, 11, 4, 15, 13, 1, 6, 4, 4, 7, 10, 11, 4, 15, 13, 1, 6, 4, 7, 10, 11, 4, 15, 13, 1, 6, 4]\n"
     ]
    }
   ],
   "source": [
    "def merge(list1, list2):\n",
    "    \n",
    "    answer = []\n",
    "    lt, rt = 0, 0\n",
    "    while lt < len(list1) and rt < len(list2):\n",
    "        if list1[lt] < list2[rt]:\n",
    "            answer.append(list1[lt])\n",
    "            lt+=1\n",
    "        else:\n",
    "            answer.append(list2[rt])\n",
    "            rt+=1\n",
    "\n",
    "        if lt != len(list1):\n",
    "            answer.extend(list1[lt:])\n",
    "        \n",
    "        if rt != len(list2):\n",
    "            answer.extend(list2[rt:])\n",
    "    \n",
    "    return answer\n",
    "\n",
    "# 합병 정렬\n",
    "def merge_sort(my_list):\n",
    "    if len(my_list) <=1:\n",
    "        return my_list\n",
    "    \n",
    "    mid = len(my_list) // 2\n",
    "    l = my_list[:mid]\n",
    "    r = my_list[mid:]\n",
    "\n",
    "    return merge(l, r)\n",
    "\n",
    "# 테스트 코드\n",
    "print(merge_sort([1, 3, 5, 7, 9, 11, 13, 11]))\n",
    "print(merge_sort([28, 13, 9, 30, 1, 48, 5, 7, 15]))\n",
    "print(merge_sort([2, 5, 6, 7, 1, 2, 4, 7, 10, 11, 4, 15, 13, 1, 6, 4]))\n"
   ]
  },
  {
   "attachments": {},
   "cell_type": "markdown",
   "metadata": {},
   "source": [
    "# 12. partition 함수 구현하기\n",
    "\n",
    "\n",
    "\n",
    "실습 설명\n",
    "partition 함수 설명 영상을 토대로 partition 함수를 작성하세요.\n",
    "\n",
    "partition 함수는 리스트 my_list, 그리고 partition할 범위를 나타내는 인덱스 start와 인덱스 end를 파라미터로 받습니다. my_list의 값들을 pivot 기준으로 재배치한 후, pivot의 최종 위치 인덱스를 리턴해야 합니다.\n",
    "\n",
    "예시 1\n",
    "Pivot(기준점)은 마지막 인덱스에 있는 5.\n",
    "\n",
    "list1 = [4, 3, 6, 2, 7, 1, 5]\n",
    "pivot_index1 = partition(list1, 0, len(list1) - 1)\n",
    "print(list1)\n",
    "print(pivot_index1)\n",
    "[4, 3, 2, 1, 5, 6, 7]\n",
    "4\n",
    "5보다 작은 값들은 왼쪽에, 5보다 큰 값들은 오른쪽에 배치됩니다.\n",
    "\n",
    "예시 2\n",
    "Pivot(기준점)은 마지막 인덱스에 있는 4.\n",
    "\n",
    "list2 = [6, 1, 2, 6, 3, 5, 4]\n",
    "pivot_index2 = partition(list2, 0, len(list2) - 1)\n",
    "print(list2)\n",
    "print(pivot_index2)\n",
    "[1, 2, 3, 4, 6, 5, 6]\n",
    "3\n",
    "4보다 작은 값들은 왼쪽에, 4보다 큰 값들은 오른쪽에 배치됩니다.\n",
    "\n",
    "팁\n",
    "partition 함수를 작성하다 보면 코드가 꽤나 지저분해질 수 있습니다. 특히 리스트에서 값들의 위치를 바꿔주는 경우가 많은데요. 코드가 지저분해지는 걸 방지하기 위해서 swap_elements라는 함수를 먼저 작성하는게 좋습니다.\n",
    "\n",
    "list1 = [1, 2, 3, 4, 5, 6]\n",
    "swap_elements(list1, 2, 5)  # 2번 인덱스 값과 5번 인덱스 값 위치 바꿈\n",
    "print(list1)                # => [1, 2, 6, 4, 5, 3]\n",
    "swap_elements 함수가 제대로 작동하는지 확인하고 나서 partition 함수를 작성해 주세요."
   ]
  },
  {
   "cell_type": "code",
   "execution_count": null,
   "metadata": {},
   "outputs": [],
   "source": [
    "# 두 요소의 위치를 바꿔주는 helper function\n",
    "def swap_elements(my_list, index1, index2):\n",
    "    # 여기에 코드를 작성하세요\n",
    "\n",
    "\n",
    "# 퀵 정렬에서 사용되는 partition 함수\n",
    "def partition(my_list, start, end):\n",
    "    # 여기에 코드를 작성하세요\n",
    "\n",
    "\n",
    "# 테스트 코드 1\n",
    "list1 = [4, 3, 6, 2, 7, 1, 5]\n",
    "pivot_index1 = partition(list1, 0, len(list1) - 1)\n",
    "print(list1)\n",
    "print(pivot_index1)\n",
    "\n",
    "# 테스트 코드 2\n",
    "list2 = [6, 1, 2, 6, 3, 5, 4]\n",
    "pivot_index2 = partition(list2, 0, len(list2) - 1)\n",
    "print(list2)\n",
    "print(pivot_index2)\n"
   ]
  }
 ],
 "metadata": {
  "kernelspec": {
   "display_name": "Python 3",
   "language": "python",
   "name": "python3"
  },
  "language_info": {
   "codemirror_mode": {
    "name": "ipython",
    "version": 3
   },
   "file_extension": ".py",
   "mimetype": "text/x-python",
   "name": "python",
   "nbconvert_exporter": "python",
   "pygments_lexer": "ipython3",
   "version": "3.9.10"
  },
  "orig_nbformat": 4
 },
 "nbformat": 4,
 "nbformat_minor": 2
}
