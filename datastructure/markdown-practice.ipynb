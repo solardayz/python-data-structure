{
 "cells": [
  {
   "attachments": {},
   "cell_type": "markdown",
   "metadata": {},
   "source": [
    "# adfadsf\n",
    "## adfadsfa\n",
    "### adfasdfsda\n",
    "\n",
    "> asdfasdf\n",
    "1. asdfasdf\n",
    "2. adfasdf\n",
    "\n",
    "* adsfasdf\n",
    "- adfasdfa\n",
    "+ adsfasdfa\n",
    "\n",
    "1. asdfasdf\n",
    " * adfasfd\n",
    "   - asdfasdf\n",
    "     + adsfasfd\n",
    "    \n",
    "***\n",
    "\n",
    "가나다  \n",
    "라마바  \n",
    "아자차 카타파  \n",
    "  \n",
    "  \n",
    "링크  \n",
    "[솔라코딩](https://github.com/solardayz/kafka-practice)\n",
    "\n",
    "|가|나|다|\n",
    "|--|--|--|\n",
    "|1 |2 | 3|\n",
    "\n",
    "```java\n",
    "public static void main(String[] args) {\n",
    "  \n",
    "}"
   ]
  }
 ],
 "metadata": {
  "language_info": {
   "name": "python"
  },
  "orig_nbformat": 4
 },
 "nbformat": 4,
 "nbformat_minor": 2
}
