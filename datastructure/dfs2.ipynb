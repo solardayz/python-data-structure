{
 "cells": [
  {
   "attachments": {},
   "cell_type": "markdown",
   "metadata": {},
   "source": [
    "최대점수 구하기(DFS)\n",
    "이번 정보올림피아드대회에서 좋은 성적을 내기 위하여 현수는 선생님이 주신 N개의 문제를\n",
    "풀려고 합니다. 각 문제는 그것을 풀었을 때 얻는 점수와 푸는데 걸리는 시간이 주어지게 됩\n",
    "니다. 제한시간 M안에 N개의 문제 중 최대점수를 얻을 수 있도록 해야 합니다. (해당문제는\n",
    "해당시간이 걸리면 푸는 걸로 간주한다, 한 유형당 한개만 풀 수 있습니다.)\n",
    "▣ 입력설명\n",
    "첫 번째 줄에 문제의 개수N(1<=N<=20)과 제한 시간 M(10<=M<=300)이 주어집니다.\n",
    "두 번째 줄부터 N줄에 걸쳐 문제를 풀었을 때의 점수와 푸는데 걸리는 시간이 주어집니다.\n",
    "▣ 출력설명\n",
    "첫 번째 줄에 제한 시간안에 얻을 수 있는 최대 점수를 출력합니다.\n",
    "▣ 입력예제 1\n",
    "5 20\n",
    "10 5\n",
    "25 12\n",
    "15 8\n",
    "6 3\n",
    "7 4\n",
    "▣ 출력예제 1\n",
    "41"
   ]
  },
  {
   "cell_type": "code",
   "execution_count": 19,
   "metadata": {},
   "outputs": [
    {
     "name": "stdout",
     "output_type": "stream",
     "text": [
      "41 20\n",
      "35 17\n",
      "38 20\n",
      "31 16\n",
      "32 17\n",
      "25 13\n",
      "23 12\n",
      "16 8\n",
      "17 9\n",
      "10 5\n",
      "40 20\n",
      "38 19\n",
      "31 15\n",
      "32 16\n",
      "25 12\n",
      "28 15\n",
      "21 11\n",
      "22 12\n",
      "15 8\n",
      "13 7\n",
      "6 3\n",
      "7 4\n",
      "0 0\n",
      "41\n"
     ]
    }
   ],
   "source": [
    "def D(L, sum, time):\n",
    "    global res\n",
    "    if time > m:\n",
    "        return\n",
    "    if L == n:\n",
    "        print(sum, time)\n",
    "        if sum > res:\n",
    "            res = sum\n",
    "    else:\n",
    "        D(L + 1, sum + scores[L], time + times[L])\n",
    "        D(L + 1, sum, time)\n",
    "\n",
    "    # print(L, sum + scores[L], time + times[L])\n",
    "\n",
    "if __name__==\"__main__\":\n",
    "    n = 5\n",
    "    m = 20\n",
    "    scores = [10, 25, 15, 6, 7]\n",
    "    times = [5, 12, 8, 3, 4]\n",
    "    res = -2147000000\n",
    "    D(0, 0, 0)\n",
    "    print(res)"
   ]
  }
 ],
 "metadata": {
  "kernelspec": {
   "display_name": "Python 3",
   "language": "python",
   "name": "python3"
  },
  "language_info": {
   "codemirror_mode": {
    "name": "ipython",
    "version": 3
   },
   "file_extension": ".py",
   "mimetype": "text/x-python",
   "name": "python",
   "nbconvert_exporter": "python",
   "pygments_lexer": "ipython3",
   "version": "3.8.6"
  },
  "orig_nbformat": 4
 },
 "nbformat": 4,
 "nbformat_minor": 2
}
