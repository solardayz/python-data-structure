{
 "cells": [
  {
   "cell_type": "code",
   "execution_count": 3,
   "metadata": {},
   "outputs": [
    {
     "name": "stdout",
     "output_type": "stream",
     "text": [
      "Hello\n"
     ]
    }
   ],
   "source": [
    "print('Hello')"
   ]
  },
  {
   "cell_type": "code",
   "execution_count": 1,
   "metadata": {},
   "outputs": [
    {
     "name": "stdout",
     "output_type": "stream",
     "text": [
      "3+5*2/(7-2)\n"
     ]
    }
   ],
   "source": [
    "#후위표기식\n",
    "'''\n",
    "▣ 입력예제 1\n",
    "3+5*2/(7-2)\n",
    "▣ 출력예제 1\n",
    "352*72-/+\n",
    "▣ 입력예제 2\n",
    "3*(5+2)-9\n",
    "▣ 출력예제 2\n",
    "352+*9-\n",
    "'''\n",
    "postfix = '3+5*2/(7-2)'\n",
    "print(postfix)\n",
    "\n",
    "stack = []\n",
    "postfix_list = []"
   ]
  }
 ],
 "metadata": {
  "kernelspec": {
   "display_name": "Python 3",
   "language": "python",
   "name": "python3"
  },
  "language_info": {
   "codemirror_mode": {
    "name": "ipython",
    "version": 3
   },
   "file_extension": ".py",
   "mimetype": "text/x-python",
   "name": "python",
   "nbconvert_exporter": "python",
   "pygments_lexer": "ipython3",
   "version": "3.8.6"
  },
  "orig_nbformat": 4
 },
 "nbformat": 4,
 "nbformat_minor": 2
}
