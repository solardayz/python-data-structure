{
 "cells": [
  {
   "cell_type": "code",
   "execution_count": null,
   "metadata": {},
   "outputs": [],
   "source": [
    "print('Hello')"
   ]
  },
  {
   "cell_type": "code",
   "execution_count": null,
   "metadata": {},
   "outputs": [],
   "source": [
    "#후위표기식\n",
    "'''\n",
    "▣ 입력예제 1\n",
    "3+5*2/(7-2)\n",
    "▣ 출력예제 1\n",
    "352*72-/+\n",
    "▣ 입력예제 2\n",
    "3*(5+2)-9\n",
    "▣ 출력예제 2\n",
    "352+*9-\n",
    "'''\n",
    "postfix = '3+5*2/(7-2)'\n",
    "print(postfix)\n",
    "\n",
    "stack = []\n",
    "postfix_list = []"
   ]
  },
  {
   "cell_type": "code",
   "execution_count": 11,
   "metadata": {},
   "outputs": [
    {
     "name": "stdout",
     "output_type": "stream",
     "text": [
      "True\n"
     ]
    }
   ],
   "source": [
    "\n",
    "players= [\"mumu\", \"soe\", \"poe\", \"kai\", \"mine\"]\t\n",
    "callings = [\"kai\", \"kai\", \"mine\", \"mine\"]\n",
    "result = [\"mumu\", \"kai\", \"mine\", \"soe\", \"poe\"]\n",
    "# print(players, callings)\n",
    "# cnt=0\n",
    "# for i in callings:\n",
    "#     # print(i)\n",
    "#     for index, x in enumerate(players):\n",
    "#         if i == x:\n",
    "#             # cnt+=1\n",
    "#             # print(index, i, x, cnt, players.pop(index))\n",
    "#             players.insert(index-1, players.pop(index))\n",
    "#             # print(players, callings)\n",
    "#             break\n",
    "\n",
    "\n",
    "# print(players, callings, result)    \n",
    "# print(players == result)\n",
    "\n",
    "# 2중 포문으로 하면 시간초과가 된다.\n",
    "# 딕셔너리로 변환\n",
    "\n",
    "players_dic = {player : index for index, player in enumerate(players)}\n",
    "# 아래 코드는 시간 초과가 남\n",
    "# print(players_dic)\n",
    "for call in callings:\n",
    "    cur_num = players_dic.get(call)\n",
    "    pre_num = cur_num - 1\n",
    "    cur_player = players[cur_num]\n",
    "    pre_player = players[pre_num]\n",
    "    # print(cur_num, pre_num, cur_player, pre_player)\n",
    "\n",
    "    tmp_num = cur_num\n",
    "    players_dic[cur_player] = pre_num\n",
    "    players_dic[pre_player] = tmp_num\n",
    "#     players.insert(pre_num, players.pop(cur_num))   \n",
    "    tmp_player = players[pre_num]\n",
    "    players[pre_num] = players[cur_num]\n",
    "    players[cur_num] = tmp_player\n",
    "    # print(players, players_dic)\n",
    "print(players == result)    \n",
    "\n",
    "# player = { string : i for i,string in enumerate(players) }\n",
    "\n",
    "# for name in callings:\n",
    "#     pre , index = player[name] - 1 , player[name]\n",
    "#     players[pre], players[index] = players[index] , players[pre]\n",
    "#     player[players[pre]] , player[players[index]] = player[players[pre]] - 1 , player[players[index]] + 1\n",
    "\n",
    "# print(players == result)    \n"
   ]
  },
  {
   "cell_type": "code",
   "execution_count": 7,
   "metadata": {},
   "outputs": [
    {
     "name": "stdout",
     "output_type": "stream",
     "text": [
      "{'mumu': 0, 'soe': 1, 'poe': 2, 'kai': 3, 'mine': 4}\n",
      "{0: 'mumu', 1: 'soe', 2: 'poe', 3: 'kai', 4: 'mine'}\n",
      "{'mumu': 0, 'soe': 1, 'poe': 3, 'kai': 2, 'mine': 4}\n",
      "{'mumu': 0, 'soe': 2, 'poe': 3, 'kai': 1, 'mine': 4}\n",
      "{'mumu': 0, 'soe': 2, 'poe': 4, 'kai': 1, 'mine': 3}\n",
      "{'mumu': 0, 'soe': 3, 'poe': 4, 'kai': 1, 'mine': 2}\n",
      "True\n"
     ]
    }
   ],
   "source": [
    "# 다른 사람 풀이\n",
    "players= [\"mumu\", \"soe\", \"poe\", \"kai\", \"mine\"]\t\n",
    "callings = [\"kai\", \"kai\", \"mine\", \"mine\"]\n",
    "result = [\"mumu\", \"kai\", \"mine\", \"soe\", \"poe\"]\n",
    "\n",
    "# 선수: 위치\n",
    "p_idx_dict = {player: i for i, player in enumerate(players)}\n",
    "# 위치: 선수\n",
    "idx_p_dict = {i: player for i, player in enumerate(players)}\n",
    "\n",
    "print(p_idx_dict)\n",
    "print(idx_p_dict)\n",
    "for call in callings:\n",
    "    cur_idx = p_idx_dict[call]  # 현재 선수의 위치\n",
    "    pre_idx = cur_idx-1         # 현재 선수보다 앞에 있는 선수 등수\n",
    "    cur_player = call\n",
    "    pre_player = idx_p_dict[pre_idx]    # *\n",
    "\n",
    "    p_idx_dict[cur_player] = pre_idx    # 현재 선수는 앞에 선수 등수가 되고\n",
    "    p_idx_dict[pre_player] = cur_idx    # 앞에 선수는 뒷 등수가 되고 \n",
    "    print(p_idx_dict)\n",
    "    idx_p_dict[pre_idx] = cur_player    # 등수별 선수 표 업데이트 * 때문에\n",
    "    idx_p_dict[cur_idx] = pre_player\n",
    "\n",
    "print(list(idx_p_dict.values()) == result)"
   ]
  },
  {
   "cell_type": "code",
   "execution_count": 23,
   "metadata": {},
   "outputs": [
    {
     "name": "stdout",
     "output_type": "stream",
     "text": [
      "{'may': 0, 'kein': 1, 'kain': 2, 'radi': 3} ['may', 'kein', 'kain', 'radi'] [5, 10, 1, 3] [['may'], ['kein', 'deny', 'may'], ['kon', 'coni']]\n",
      "{'may': 0, 'kein': 1, 'kain': 2, 'radi': 3}\n",
      "may\n",
      "{'may': 0, 'kein': 1, 'kain': 2, 'radi': 3}\n",
      "kein\n",
      "may\n",
      "{'may': 0, 'kein': 1, 'kain': 2, 'radi': 3}\n",
      "[5, 15, 0] [5, 15, 0]\n"
     ]
    }
   ],
   "source": [
    "name = [\"may\", \"kein\", \"kain\", \"radi\"]\n",
    "yearning = [5, 10, 1, 3]\n",
    "photo = [[\"may\"],[\"kein\", \"deny\", \"may\"], [\"kon\", \"coni\"]]\n",
    "result = [5, 15, 0]\n",
    "answer = []\n",
    "score_dic = {name : index for index, name in enumerate(name)}\n",
    "print(score_dic, name, yearning, photo)\n",
    "for names in photo:\n",
    "    score = 0\n",
    "    print(score_dic)\n",
    "    for people in names:\n",
    "        if people in name:\n",
    "            print(people)\n",
    "            score += yearning[score_dic.get(people)]\n",
    "    answer.append(score)\n",
    "print(answer, result)    \n"
   ]
  },
  {
   "attachments": {},
   "cell_type": "markdown",
   "metadata": {},
   "source": [
    "크기가 작은 부분문자열\n",
    "문제 설명\n",
    "숫자로 이루어진 문자열 t와 p가 주어질 때, t에서 p와 길이가 같은 부분문자열 중에서, \n",
    "이 부분문자열이 나타내는 수가 p가 나타내는 수보다 작거나 같은 것이 나오는 횟수를 return하는 함수 solution을 완성하세요.\n",
    "\n",
    "예를 들어, t=\"3141592\"이고 p=\"271\" 인 경우, t의 길이가 3인 부분 문자열은 314, 141, 415, 159, 592입니다. 이 문자열이 나타내는 수 중 271보다 작거나 같은 수는 141, 159 2개 입니다."
   ]
  },
  {
   "cell_type": "code",
   "execution_count": 83,
   "metadata": {},
   "outputs": [
    {
     "name": "stdout",
     "output_type": "stream",
     "text": [
      "0 1 5 7\n",
      "1 2 0 7\n",
      "2 3 0 7\n",
      "3 4 2 7\n",
      "4 5 2 7\n",
      "5 6 0 7\n",
      "6 7 8 7\n",
      "7 8 3 7\n",
      "8 9 9 7\n",
      "9 10 8 7\n",
      "10 11 7 7\n",
      "11 12 8 7\n",
      "cnt 8\n"
     ]
    }
   ],
   "source": [
    "import math\n",
    "\n",
    "# t=\"10203\"\n",
    "# p=\"15\"\n",
    "# result=3\n",
    "# t=\"3141592\"\n",
    "# p=\"271\"\n",
    "# result = 2\n",
    "\n",
    "t=\"500220839878\"    \n",
    "p=\"7\"\t\t\n",
    "result = 8\n",
    "# l=len(p)\n",
    "# t1 = t[0:3]\n",
    "# maxlen = int(len(t)/len(p))\n",
    "# print(t,p,result,l,t1, maxlen, len(t))\n",
    "cnt=0\n",
    "for i in range(0,len(t)):\n",
    "    # print(i)\n",
    "    lastlen = i + math.ceil(len(p))\n",
    "    print(i,lastlen,t[i:lastlen], p)\n",
    "    if t[i:lastlen] <= p and len(t[i:lastlen]) == math.ceil(len(p)):\n",
    "        cnt+=1\n",
    "print(\"cnt\",cnt)        \n",
    "\n"
   ]
  }
 ],
 "metadata": {
  "kernelspec": {
   "display_name": "Python 3",
   "language": "python",
   "name": "python3"
  },
  "language_info": {
   "codemirror_mode": {
    "name": "ipython",
    "version": 3
   },
   "file_extension": ".py",
   "mimetype": "text/x-python",
   "name": "python",
   "nbconvert_exporter": "python",
   "pygments_lexer": "ipython3",
   "version": "3.9.10"
  },
  "orig_nbformat": 4
 },
 "nbformat": 4,
 "nbformat_minor": 2
}
