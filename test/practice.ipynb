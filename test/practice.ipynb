{
 "cells": [
  {
   "cell_type": "code",
   "execution_count": 3,
   "metadata": {},
   "outputs": [
    {
     "name": "stdout",
     "output_type": "stream",
     "text": [
      "Hello\n"
     ]
    }
   ],
   "source": [
    "print('Hello')"
   ]
  },
  {
   "cell_type": "code",
   "execution_count": 1,
   "metadata": {},
   "outputs": [
    {
     "name": "stdout",
     "output_type": "stream",
     "text": [
      "3+5*2/(7-2)\n"
     ]
    }
   ],
   "source": [
    "#후위표기식\n",
    "'''\n",
    "▣ 입력예제 1\n",
    "3+5*2/(7-2)\n",
    "▣ 출력예제 1\n",
    "352*72-/+\n",
    "▣ 입력예제 2\n",
    "3*(5+2)-9\n",
    "▣ 출력예제 2\n",
    "352+*9-\n",
    "'''\n",
    "postfix = '3+5*2/(7-2)'\n",
    "print(postfix)\n",
    "\n",
    "stack = []\n",
    "postfix_list = []"
   ]
  },
  {
   "cell_type": "code",
   "execution_count": 10,
   "metadata": {},
   "outputs": [
    {
     "name": "stdout",
     "output_type": "stream",
     "text": [
      "['mumu', 'soe', 'poe', 'kai', 'mine'] ['kai', 'kai', 'mine', 'mine']\n",
      "['mumu', 'kai', 'mine', 'soe', 'poe'] ['kai', 'kai', 'mine', 'mine'] ['mumu', 'kai', 'mine', 'soe', 'poe']\n",
      "True\n"
     ]
    }
   ],
   "source": [
    "\n",
    "players= [\"mumu\", \"soe\", \"poe\", \"kai\", \"mine\"]\t\n",
    "callings = [\"kai\", \"kai\", \"mine\", \"mine\"]\n",
    "print(players, callings)\n",
    "# cnt=0\n",
    "for i in callings:\n",
    "    # print(i)\n",
    "    for index, x in enumerate(players):\n",
    "        if i == x:\n",
    "            # cnt+=1\n",
    "            # print(index, i, x, cnt, players.pop(index))\n",
    "            players.insert(index-1, players.pop(index))\n",
    "            # print(players, callings)\n",
    "\n",
    "result = [\"mumu\", \"kai\", \"mine\", \"soe\", \"poe\"]\n",
    "print(players, callings, result)    \n",
    "print(players == result)"
   ]
  }
 ],
 "metadata": {
  "kernelspec": {
   "display_name": "Python 3",
   "language": "python",
   "name": "python3"
  },
  "language_info": {
   "codemirror_mode": {
    "name": "ipython",
    "version": 3
   },
   "file_extension": ".py",
   "mimetype": "text/x-python",
   "name": "python",
   "nbconvert_exporter": "python",
   "pygments_lexer": "ipython3",
   "version": "3.9.10"
  },
  "orig_nbformat": 4
 },
 "nbformat": 4,
 "nbformat_minor": 2
}
