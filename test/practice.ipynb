{
 "cells": [
  {
   "cell_type": "code",
   "execution_count": null,
   "metadata": {},
   "outputs": [],
   "source": [
    "print('Hello')"
   ]
  },
  {
   "cell_type": "code",
   "execution_count": null,
   "metadata": {},
   "outputs": [],
   "source": [
    "#후위표기식\n",
    "'''\n",
    "▣ 입력예제 1\n",
    "3+5*2/(7-2)\n",
    "▣ 출력예제 1\n",
    "352*72-/+\n",
    "▣ 입력예제 2\n",
    "3*(5+2)-9\n",
    "▣ 출력예제 2\n",
    "352+*9-\n",
    "'''\n",
    "postfix = '3+5*2/(7-2)'\n",
    "print(postfix)\n",
    "\n",
    "stack = []\n",
    "postfix_list = []"
   ]
  },
  {
   "cell_type": "code",
   "execution_count": 11,
   "metadata": {},
   "outputs": [
    {
     "name": "stdout",
     "output_type": "stream",
     "text": [
      "True\n"
     ]
    }
   ],
   "source": [
    "\n",
    "players= [\"mumu\", \"soe\", \"poe\", \"kai\", \"mine\"]\t\n",
    "callings = [\"kai\", \"kai\", \"mine\", \"mine\"]\n",
    "result = [\"mumu\", \"kai\", \"mine\", \"soe\", \"poe\"]\n",
    "# print(players, callings)\n",
    "# cnt=0\n",
    "# for i in callings:\n",
    "#     # print(i)\n",
    "#     for index, x in enumerate(players):\n",
    "#         if i == x:\n",
    "#             # cnt+=1\n",
    "#             # print(index, i, x, cnt, players.pop(index))\n",
    "#             players.insert(index-1, players.pop(index))\n",
    "#             # print(players, callings)\n",
    "#             break\n",
    "\n",
    "\n",
    "# print(players, callings, result)    \n",
    "# print(players == result)\n",
    "\n",
    "# 2중 포문으로 하면 시간초과가 된다.\n",
    "# 딕셔너리로 변환\n",
    "\n",
    "players_dic = {player : index for index, player in enumerate(players)}\n",
    "# 아래 코드는 시간 초과가 남\n",
    "# print(players_dic)\n",
    "for call in callings:\n",
    "    cur_num = players_dic.get(call)\n",
    "    pre_num = cur_num - 1\n",
    "    cur_player = players[cur_num]\n",
    "    pre_player = players[pre_num]\n",
    "    # print(cur_num, pre_num, cur_player, pre_player)\n",
    "\n",
    "    tmp_num = cur_num\n",
    "    players_dic[cur_player] = pre_num\n",
    "    players_dic[pre_player] = tmp_num\n",
    "#     players.insert(pre_num, players.pop(cur_num))   \n",
    "    tmp_player = players[pre_num]\n",
    "    players[pre_num] = players[cur_num]\n",
    "    players[cur_num] = tmp_player\n",
    "    # print(players, players_dic)\n",
    "print(players == result)    \n",
    "\n",
    "# player = { string : i for i,string in enumerate(players) }\n",
    "\n",
    "# for name in callings:\n",
    "#     pre , index = player[name] - 1 , player[name]\n",
    "#     players[pre], players[index] = players[index] , players[pre]\n",
    "#     player[players[pre]] , player[players[index]] = player[players[pre]] - 1 , player[players[index]] + 1\n",
    "\n",
    "# print(players == result)    \n"
   ]
  },
  {
   "cell_type": "code",
   "execution_count": 7,
   "metadata": {},
   "outputs": [
    {
     "name": "stdout",
     "output_type": "stream",
     "text": [
      "{'mumu': 0, 'soe': 1, 'poe': 2, 'kai': 3, 'mine': 4}\n",
      "{0: 'mumu', 1: 'soe', 2: 'poe', 3: 'kai', 4: 'mine'}\n",
      "{'mumu': 0, 'soe': 1, 'poe': 3, 'kai': 2, 'mine': 4}\n",
      "{'mumu': 0, 'soe': 2, 'poe': 3, 'kai': 1, 'mine': 4}\n",
      "{'mumu': 0, 'soe': 2, 'poe': 4, 'kai': 1, 'mine': 3}\n",
      "{'mumu': 0, 'soe': 3, 'poe': 4, 'kai': 1, 'mine': 2}\n",
      "True\n"
     ]
    }
   ],
   "source": [
    "# 다른 사람 풀이\n",
    "players= [\"mumu\", \"soe\", \"poe\", \"kai\", \"mine\"]\t\n",
    "callings = [\"kai\", \"kai\", \"mine\", \"mine\"]\n",
    "result = [\"mumu\", \"kai\", \"mine\", \"soe\", \"poe\"]\n",
    "\n",
    "# 선수: 위치\n",
    "p_idx_dict = {player: i for i, player in enumerate(players)}\n",
    "# 위치: 선수\n",
    "idx_p_dict = {i: player for i, player in enumerate(players)}\n",
    "\n",
    "print(p_idx_dict)\n",
    "print(idx_p_dict)\n",
    "for call in callings:\n",
    "    cur_idx = p_idx_dict[call]  # 현재 선수의 위치\n",
    "    pre_idx = cur_idx-1         # 현재 선수보다 앞에 있는 선수 등수\n",
    "    cur_player = call\n",
    "    pre_player = idx_p_dict[pre_idx]    # *\n",
    "\n",
    "    p_idx_dict[cur_player] = pre_idx    # 현재 선수는 앞에 선수 등수가 되고\n",
    "    p_idx_dict[pre_player] = cur_idx    # 앞에 선수는 뒷 등수가 되고 \n",
    "    print(p_idx_dict)\n",
    "    idx_p_dict[pre_idx] = cur_player    # 등수별 선수 표 업데이트 * 때문에\n",
    "    idx_p_dict[cur_idx] = pre_player\n",
    "\n",
    "print(list(idx_p_dict.values()) == result)"
   ]
  },
  {
   "cell_type": "code",
   "execution_count": 23,
   "metadata": {},
   "outputs": [
    {
     "name": "stdout",
     "output_type": "stream",
     "text": [
      "{'may': 0, 'kein': 1, 'kain': 2, 'radi': 3} ['may', 'kein', 'kain', 'radi'] [5, 10, 1, 3] [['may'], ['kein', 'deny', 'may'], ['kon', 'coni']]\n",
      "{'may': 0, 'kein': 1, 'kain': 2, 'radi': 3}\n",
      "may\n",
      "{'may': 0, 'kein': 1, 'kain': 2, 'radi': 3}\n",
      "kein\n",
      "may\n",
      "{'may': 0, 'kein': 1, 'kain': 2, 'radi': 3}\n",
      "[5, 15, 0] [5, 15, 0]\n"
     ]
    }
   ],
   "source": [
    "name = [\"may\", \"kein\", \"kain\", \"radi\"]\n",
    "yearning = [5, 10, 1, 3]\n",
    "photo = [[\"may\"],[\"kein\", \"deny\", \"may\"], [\"kon\", \"coni\"]]\n",
    "result = [5, 15, 0]\n",
    "answer = []\n",
    "score_dic = {name : index for index, name in enumerate(name)}\n",
    "print(score_dic, name, yearning, photo)\n",
    "for names in photo:\n",
    "    score = 0\n",
    "    print(score_dic)\n",
    "    for people in names:\n",
    "        if people in name:\n",
    "            print(people)\n",
    "            score += yearning[score_dic.get(people)]\n",
    "    answer.append(score)\n",
    "print(answer, result)    \n"
   ]
  },
  {
   "cell_type": "code",
   "execution_count": 18,
   "metadata": {},
   "outputs": [
    {
     "name": "stdout",
     "output_type": "stream",
     "text": [
      "['may', 'kein', 'kain', 'radi'] may\n",
      "['may', 'kein', 'kain', 'radi'] kein\n",
      "['may', 'kein', 'kain', 'radi'] may\n",
      "[5, 15, 0] [5, 15, 0]\n"
     ]
    }
   ],
   "source": [
    "name = [\"may\", \"kein\", \"kain\", \"radi\"]\n",
    "yearning = [5, 10, 1, 3]\n",
    "photo = [[\"may\"],[\"kein\", \"deny\", \"may\"], [\"kon\", \"coni\"]]\n",
    "result = [5, 15, 0]\n",
    "answer = []\n",
    "for peoples in photo:\n",
    "    score = 0\n",
    "    for people in peoples:\n",
    "        if people in name:\n",
    "            print(name, people)\n",
    "            score += yearning[name.index(people)]\n",
    "    answer.append(score)\n",
    "print(result, answer)    "
   ]
  }
 ],
 "metadata": {
  "kernelspec": {
   "display_name": "Python 3",
   "language": "python",
   "name": "python3"
  },
  "language_info": {
   "codemirror_mode": {
    "name": "ipython",
    "version": 3
   },
   "file_extension": ".py",
   "mimetype": "text/x-python",
   "name": "python",
   "nbconvert_exporter": "python",
   "pygments_lexer": "ipython3",
   "version": "3.8.6"
  },
  "orig_nbformat": 4
 },
 "nbformat": 4,
 "nbformat_minor": 2
}
