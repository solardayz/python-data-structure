{
 "cells": [
  {
   "cell_type": "code",
   "execution_count": 21,
   "metadata": {},
   "outputs": [
    {
     "name": "stdout",
     "output_type": "stream",
     "text": [
      "0.00000 sec\n",
      "0.00000 sec\n",
      "{'b': 0, 'a': 3, 'n': 4} {'b': 0, 'a': 3, 'n': 4}\n"
     ]
    }
   ],
   "source": [
    "import time\n",
    "dic1 = {}\n",
    "dic2 = dict()\n",
    "s = 'banan'\n",
    "\n",
    "\n",
    "start1 = time.time()\n",
    "for i in range(0, len(s)):\n",
    "    dic1[s[i]] = i\n",
    "end1 = time.time()\n",
    "print(f\"{end1 - start1:.5f} sec\")    \n",
    "\n",
    "start2 = time.time()\n",
    "for index, x in enumerate(s):\n",
    "    # print(x)\n",
    "    dic2[x] = index\n",
    "end2 = time.time()\n",
    "print(f\"{end2 - start2:.5f} sec\")    \n",
    "\n",
    "print(dic1, dic2)"
   ]
  }
 ],
 "metadata": {
  "kernelspec": {
   "display_name": "Python 3",
   "language": "python",
   "name": "python3"
  },
  "language_info": {
   "codemirror_mode": {
    "name": "ipython",
    "version": 3
   },
   "file_extension": ".py",
   "mimetype": "text/x-python",
   "name": "python",
   "nbconvert_exporter": "python",
   "pygments_lexer": "ipython3",
   "version": "3.9.10"
  },
  "orig_nbformat": 4
 },
 "nbformat": 4,
 "nbformat_minor": 2
}
