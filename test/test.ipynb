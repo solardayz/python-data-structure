{
 "cells": [
  {
   "cell_type": "code",
   "execution_count": 1,
   "metadata": {},
   "outputs": [
    {
     "name": "stdout",
     "output_type": "stream",
     "text": [
      "0.00000 sec\n",
      "0.00000 sec\n",
      "{'b': 0, 'a': 3, 'n': 4} {'b': 0, 'a': 3, 'n': 4}\n"
     ]
    }
   ],
   "source": [
    "import time\n",
    "dic1 = {}\n",
    "dic2 = dict()\n",
    "s = 'banan'\n",
    "\n",
    "\n",
    "start1 = time.time()\n",
    "for i in range(0, len(s)):\n",
    "    dic1[s[i]] = i\n",
    "end1 = time.time()\n",
    "print(f\"{end1 - start1:.5f} sec\")    \n",
    "\n",
    "start2 = time.time()\n",
    "for index, x in enumerate(s):\n",
    "    # print(x)\n",
    "    dic2[x] = index\n",
    "end2 = time.time()\n",
    "print(f\"{end2 - start2:.5f} sec\")    \n",
    "\n",
    "print(dic1, dic2)"
   ]
  },
  {
   "cell_type": "code",
   "execution_count": 3,
   "metadata": {},
   "outputs": [
    {
     "name": "stdout",
     "output_type": "stream",
     "text": [
      "[1]\n",
      "[1]\n",
      "[1, 2]\n",
      "[1, 2, 3, 4, 5, 6, 7, 8]\n",
      "[1, 2, 3, 4, 5, 6, 7, 8]\n",
      "[1, 3, 4, 6, 7, 8, 9, 10]\n"
     ]
    }
   ],
   "source": [
    "# 합병 정렬 알고리즘 중 사용되는 merge 함수를 작성해 보세요.\n",
    "\n",
    "# merge 함수는 정렬된 두 리스트 list1과 list2를 받아서, 하나의 정렬된 리스트를 리턴합니다.\n",
    "\n",
    "def merge(list1, list2):\n",
    "    answer = []\n",
    "    # print(len(list1), len(list2))\n",
    "    \n",
    "    l1, l2 = 0, 0\n",
    "    while l1 < len(list1) and l2 < len(list2):\n",
    "        if list1[l1] < list2[l2]:\n",
    "            answer.append(list1[l1])\n",
    "            l1+=1\n",
    "        else:\n",
    "            answer.append(list2[l2])\n",
    "            l2+=1\n",
    "\n",
    "    # print(l1, len(list1), l2, len(list2))\n",
    "    # for i in range(l1, len(list1)):\n",
    "    #     answer.append(list1[l1])\n",
    "    #     l1+=1\n",
    "\n",
    "    # for i in range(l2, len(list2)):\n",
    "    #     answer.append(list2[l2])\n",
    "    #     l2+=1\n",
    "    if l1 != len(list1):\n",
    "        answer.extend( list1[l1:] )\n",
    "    if l2 != len(list2):\n",
    "        answer.extend( list2[l2:] )\n",
    "\n",
    "    return answer\n",
    "        \n",
    "\n",
    "    \n",
    "# 테스트 코드\n",
    "print(merge([1],[]))\n",
    "print(merge([],[1]))\n",
    "print(merge([2],[1]))\n",
    "print(merge([1, 2, 3, 4],[5, 6, 7, 8]))\n",
    "print(merge([5, 6, 7, 8],[1, 2, 3, 4]))\n",
    "print(merge([4, 7, 8, 9],[1, 3, 6, 10]))"
   ]
  },
  {
   "cell_type": "code",
   "execution_count": 7,
   "metadata": {},
   "outputs": [
    {
     "name": "stdout",
     "output_type": "stream",
     "text": [
      "[1, 2, 3, 4, 5, 6, 7, 8, 9]\n",
      "2\n",
      "[2, 3, 4, 5, 6, 7, 8, 9]\n",
      "[2, 3, 4, 5]\n",
      "[2, 4]\n"
     ]
    }
   ],
   "source": [
    "list = [1,2,3,4,5,6,7,8,9]\n",
    "print(list)\n",
    "print(list[1])\n",
    "print(list[1:])\n",
    "print(list[1:5])\n",
    "print(list[1:5:2])"
   ]
  }
 ],
 "metadata": {
  "kernelspec": {
   "display_name": "Python 3",
   "language": "python",
   "name": "python3"
  },
  "language_info": {
   "codemirror_mode": {
    "name": "ipython",
    "version": 3
   },
   "file_extension": ".py",
   "mimetype": "text/x-python",
   "name": "python",
   "nbconvert_exporter": "python",
   "pygments_lexer": "ipython3",
   "version": "3.9.10"
  },
  "orig_nbformat": 4
 },
 "nbformat": 4,
 "nbformat_minor": 2
}
